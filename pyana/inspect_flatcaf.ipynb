{
 "cells": [
  {
   "cell_type": "code",
   "execution_count": null,
   "metadata": {},
   "outputs": [],
   "source": [
    "#"
   ]
  },
  {
   "cell_type": "code",
   "execution_count": null,
   "metadata": {},
   "outputs": [],
   "source": [
    "import numpy as np\n",
    "import pandas as pd\n",
    "import uproot\n",
    "import os\n",
    "from pandas_helpers import *\n",
    "from helpers import *\n",
    "import matplotlib.pyplot as plt"
   ]
  },
  {
   "cell_type": "code",
   "execution_count": null,
   "metadata": {},
   "outputs": [],
   "source": [
    "pfpbranch = \"rec.slc.reco.pfp.\"\n",
    "trkbranch = pfpbranch + \"trk.\"\n",
    "\n",
    "trkhitbranches_perplane = lambda IPLANE : [\n",
    "    trkbranch + \"calo.%i.points.dedx\"% IPLANE,\n",
    "    trkbranch + \"calo.%i.points.dqdx\"% IPLANE,\n",
    "    trkbranch + \"calo.%i.points.pitch\"% IPLANE,\n",
    "    trkbranch + \"calo.%i.points.integral\"% IPLANE,\n",
    "    trkbranch + \"calo.%i.points.rr\"% IPLANE,\n",
    "    trkbranch + \"calo.%i.points.wire\"% IPLANE,\n",
    "    trkbranch + \"calo.%i.points.tpc\"% IPLANE,\n",
    "    trkbranch + \"calo.%i.points.sumadc\"% IPLANE,\n",
    "    trkbranch + \"calo.%i.points.t\"% IPLANE,\n",
    "    trkbranch + \"calo.%i.points.x\"% IPLANE,\n",
    "    trkbranch + \"calo.%i.points.y\"% IPLANE,\n",
    "    trkbranch + \"calo.%i.points.z\"% IPLANE,\n",
    "\n",
    "    #trkbranch + \"calo.%i.points.width\"% IPLANE,\n",
    "    #trkbranch + \"calo.%i.points.mult\"% IPLANE,\n",
    "    #trkbranch + \"calo.%i.points.tdc0\"% IPLANE,\n",
    "\n",
    "    trkbranch + \"calo.%i.points.truth.h_e\"% IPLANE,\n",
    "    trkbranch + \"calo.%i.points.truth.h_nelec\"% IPLANE,\n",
    "    trkbranch + \"calo.%i.points.truth.pitch\"% IPLANE,\n",
    "    trkbranch + \"calo.%i.points.truth.rr\"% IPLANE,\n",
    "]\n",
    "\n",
    "trkhitbranches = trkhitbranches_perplane(2)\n",
    "trkhitbranches_P1 = trkhitbranches_perplane(1)\n",
    "trkhitbranches_P0 = trkhitbranches_perplane(0)\n",
    "\n",
    "trkbranches = [\n",
    "    \"rec.slc.reco.pfp.trk.dir.x\", \"rec.slc.reco.pfp.trk.dir.y\", \"rec.slc.reco.pfp.trk.dir.z\",\n",
    "    \"rec.slc.reco.pfp.trk.start.x\", \"rec.slc.reco.pfp.trk.start.y\", \"rec.slc.reco.pfp.trk.start.z\",\n",
    "    \"rec.slc.reco.pfp.trk.end.x\", \"rec.slc.reco.pfp.trk.end.y\", \"rec.slc.reco.pfp.trk.end.z\",\n",
    "    \"rec.slc.reco.pfp.trk.len\",\n",
    "    'rec.slc.reco.pfp.trk.truth.p.start.x', 'rec.slc.reco.pfp.trk.truth.p.start.y', 'rec.slc.reco.pfp.trk.truth.p.start.z',\n",
    "    'rec.slc.reco.pfp.trk.truth.p.end.x', 'rec.slc.reco.pfp.trk.truth.p.end.y', 'rec.slc.reco.pfp.trk.truth.p.end.z',\n",
    "    'rec.slc.reco.pfp.trk.truth.p.end_process',\n",
    "    'rec.slc.reco.pfp.trk.truth.p.pdg'\n",
    "    ]\n",
    "\n",
    "slcbranches = [\n",
    "    \"rec.slc.charge\",\n",
    "    \"rec.slc.vertex.x\", \"rec.slc.vertex.y\", \"rec.slc.vertex.z\",\n",
    "    \"rec.slc.self\",\n",
    "    \"rec.slc.tmatch.eff\",\n",
    "    \"rec.slc.tmatch.pur\",\n",
    "    \"rec.slc.tmatch.index\",\n",
    "    \"rec.slc.producer\",\n",
    "    \"rec.slc.nu_score\",\n",
    "    \"rec.slc.fmatch.score\",\n",
    "    \"rec.slc.fmatch.time\",\n",
    "    \"rec.slc.truth.pdg\",\n",
    "    'rec.slc.crumbs_result.score'\n",
    "]"
   ]
  },
  {
   "cell_type": "code",
   "execution_count": null,
   "metadata": {},
   "outputs": [],
   "source": [
    "# this_file = \"/pnfs/sbnd/scratch/users/munjung/v09_84_00_01/prod_2024A_test/caf/ellips/80540825_0/prodgenie_cosmic_rockbox_sbnd_GenieGen-20240508T015752_421881e2-5810-434a-8c14-4c14a3be325f_G4Var-20240509T010444_WCLS-20240509T035921_DetSim-20240509_1fd14e1d-6c4d-40c5-a685-b22042aa5422.root\"\n",
    "# this_file = \"/pnfs/sbnd/scratch/users/munjung/v09_84_00_01/prod_2024A_test/caf/sceoff_diffoff/11396679_0/prodgenie_cosmic_rockbox_sbnd_GenieGen-20240509T221325_82d29835-005c-466b-8053-a5cd1e5e8279_G4-20240510T161355_WCLS-20240510T234737_DetSim-20240511T19_8358ce24-d360-4f60-9175-25cd2d2c2946.root\"\n",
    "# this_file = \"/pnfs/sbnd/scratch/users/munjung/v09_84_00_01/prod_2024A_test/caf/sceoff_diffon/11396680_0/prodgenie_cosmic_rockbox_sbnd_GenieGen-20240509T220730_0c168ce9-bc0d-4b8d-953f-08badb58c705_G4-20240510T035656_WCLS-20240510T234244_DetSim-20240513T04_8bce8320-1d8c-4a4c-8ad5-c03f6a558afd.root\"\n",
    "# this_file = \"/pnfs/sbnd/scratch/users/munjung/v09_84_00_01/prod_2024A_test/caf/sceon_diffoff/12716697_0/prodgenie_cosmic_rockbox_sbnd_GenieGen-20240508T015353_85d6f4de-708e-4814-95f7-e566f2e2e06e_G4-20240510T043511_WCLS-20240510T234410_DetSimVar-20240511_f2a00456-0565-4256-bfb0-2ee07d576a18.root\"\n",
    "this_file = \"/pnfs/sbnd/scratch/users/munjung/v09_84_00_01/prod_2024A_test/caf/2024_genie_cv/11397453_6/reco2-de2f06d5-4de8-4b55-b95e-74787c21053f.flat.caf.root\"\n",
    "events = uproot.open(this_file+\":recTree\")\n",
    "\n",
    "hits_df = loadbranches(events, trkhitbranches)\n",
    "hits_df = hits_df.rec.slc.reco.pfp.trk.calo.I2.points\n",
    "\n",
    "slc_df = loadbranches(events, slcbranches)\n",
    "slc_df = slc_df.rec.slc"
   ]
  },
  {
   "cell_type": "code",
   "execution_count": null,
   "metadata": {},
   "outputs": [],
   "source": [
    "fig, ax = plt.subplots(figsize=(6,4))\n",
    "var = slc_df.rec.slc.tmatch.eff\n",
    "bins = np.linspace(0,1,21)\n",
    "plt.hist(var, bins=bins)\n",
    "plt.xlabel(\"Truth Match Efficiency\")\n",
    "plt.show();"
   ]
  },
  {
   "cell_type": "code",
   "execution_count": null,
   "metadata": {},
   "outputs": [],
   "source": [
    "fig, ax = plt.subplots(figsize=(6,4))\n",
    "varx = hits_df.rr\n",
    "vary = hits_df.dedx\n",
    "bins = (np.linspace(0,120,51), np.linspace(0,10,51))\n",
    "plt.hist2d(varx, vary, bins=bins)\n",
    "plt.colorbar()\n",
    "plt.xlabel(\"RR\")\n",
    "plt.ylabel(\"dE/dx\")\n",
    "plt.show();"
   ]
  },
  {
   "cell_type": "code",
   "execution_count": null,
   "metadata": {},
   "outputs": [],
   "source": []
  }
 ],
 "metadata": {
  "kernelspec": {
   "display_name": "Python 3 (ipykernel)",
   "language": "python",
   "name": "python3"
  },
  "language_info": {
   "codemirror_mode": {
    "name": "ipython",
    "version": 3
   },
   "file_extension": ".py",
   "mimetype": "text/x-python",
   "name": "python",
   "nbconvert_exporter": "python",
   "pygments_lexer": "ipython3",
   "version": "3.6.8"
  }
 },
 "nbformat": 4,
 "nbformat_minor": 4
}
