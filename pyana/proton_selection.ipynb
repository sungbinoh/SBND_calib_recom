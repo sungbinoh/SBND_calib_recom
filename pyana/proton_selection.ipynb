{
 "cells": [
  {
   "cell_type": "markdown",
   "metadata": {},
   "source": [
    "# Proton Selection"
   ]
  },
  {
   "cell_type": "code",
   "execution_count": null,
   "metadata": {},
   "outputs": [],
   "source": [
    "import numpy as np\n",
    "import pandas as pd\n",
    "import uproot\n",
    "import matplotlib.pyplot as plt\n",
    "import pickle\n",
    "import os\n",
    "from df_utils import merge_dfs\n",
    "from utils import InFV\n",
    "# plt.style.use('./presentation.mplstyle')"
   ]
  },
  {
   "cell_type": "code",
   "execution_count": null,
   "metadata": {},
   "outputs": [],
   "source": [
    "savefig = False\n",
    "figdir = \"20240516\"\n",
    "\n",
    "# selection cuts\n",
    "MAX_LEN_CUT = 25 \n",
    "MIN_LEN_CUT = 25\n",
    "MUSCORE_CUT = 40\n",
    "PSCORE_CUT = 80\n",
    "\n",
    "savepath = \"/exp/sbnd/data/users/munjung/calibration/dfs/2024_prod_test\"\n",
    "dfname = \"genie_cv.pkl\"\n",
    "calibdfname = \"calib_df_muscore{}_pscore{}.pkl\".format(MUSCORE_CUT, PSCORE_CUT)\n",
    "\n",
    "trklabels = [r\"stopping $p$\", r\"reinteracting $p$\", r\"$\\nu$ induced $\\mu$\", r\"cosmic $\\mu$\", \"other\"]\n",
    "trkcolors = [\"blue\", \"skyblue\", \"green\", \"lightgreen\", \"orange\"]"
   ]
  },
  {
   "cell_type": "code",
   "execution_count": null,
   "metadata": {},
   "outputs": [],
   "source": [
    "def var_breakdown(var, df):\n",
    "    breakdown = [var[(df.mc_pdg == 2212) & (df.mc_end_process == 54)], var[(df.mc_pdg == 2212) & (df.mc_end_process != 54)], \n",
    "        var[(np.abs(df.mc_pdg) == 13) & (df.slc_mc_pdg != -1)], var[(np.abs(df.mc_pdg) == 13) & (df.slc_mc_pdg == -1)],\n",
    "        var[(np.abs(df.mc_pdg) != 13) & (df.mc_pdg != 2212)]]\n",
    "    return breakdown"
   ]
  },
  {
   "cell_type": "code",
   "execution_count": null,
   "metadata": {},
   "outputs": [],
   "source": [
    "dfs = pickle.load(open(os.path.join(savepath, dfname), \"rb\"))\n",
    "all_df = merge_dfs(dfs)"
   ]
  },
  {
   "cell_type": "code",
   "execution_count": null,
   "metadata": {},
   "outputs": [],
   "source": [
    "# check that the CAF truth matching bug is fixed\n",
    "var = all_df.slc_tmatch.eff\n",
    "bins = np.linspace(0,1,21)\n",
    "plt.hist(var, bins=bins)\n",
    "plt.show();"
   ]
  },
  {
   "cell_type": "code",
   "execution_count": null,
   "metadata": {},
   "outputs": [],
   "source": [
    "# https://github.com/SBNSoftware/sbnanaobj/blob/develop/sbnanaobj/StandardRecord/SREnums.h#L155-L221\n",
    "var = all_df[(all_df.mc_pdg == 2212)].mc_end_process\n",
    "for process in var.unique():\n",
    "    print(\"proton\", process, (var == process).sum()/len(var))\n",
    "\n",
    "var = all_df[(np.abs(all_df.mc_pdg) == 211)].mc_end_process\n",
    "for process in var.unique():\n",
    "    print(\"pion\", process, (var == process).sum()/len(var))"
   ]
  },
  {
   "cell_type": "code",
   "execution_count": null,
   "metadata": {},
   "outputs": [],
   "source": [
    "slc_infv = all_df[InFV(all_df.slc_vertex)]\n",
    "slc_dropbad = slc_infv[slc_infv.mc_pdg != -2147483648]\n",
    "\n",
    "# select slices with 2 pfps\n",
    "npfps = slc_dropbad.groupby(level=[0,1]).count().slc_self\n",
    "twopfps_idx = npfps[npfps == 2].index \n",
    "twopfps = slc_dropbad.reset_index(level=2).loc[twopfps_idx]\n",
    "twopfps = twopfps.reset_index().set_index([\"entry\", \"rec.slc..index\", \"rec.slc.reco.pfp..index\"])\n",
    "\n",
    "# slice track multiplicities\n",
    "twopfps[\"is_track\"] = (twopfps.pfp.trackScore > 0.5)\n",
    "twopfps[\"is_contained_track\"] = (twopfps.pfp.trackScore > 0.5) & (twopfps.is_contained == True)\n",
    "ntrk = twopfps.groupby(level=[0,1]).is_track.sum()\n",
    "ntrkcont = twopfps.groupby(level=[0,1]).is_contained_track.sum()"
   ]
  },
  {
   "cell_type": "code",
   "execution_count": null,
   "metadata": {},
   "outputs": [],
   "source": [
    "fig, ax = plt.subplots(figsize=(6,4))\n",
    "var = [ntrk, ntrkcont]\n",
    "bins = np.arange(0,4,1)\n",
    "labels = [\"all tracks\", \"contained tracks\"]\n",
    "plt.hist(var, bins=bins, label=labels, histtype=\"step\")\n",
    "plt.xlabel(\"Track Multiplicity\")\n",
    "plt.ylabel(\"Slices\")\n",
    "plt.legend()\n",
    "plt.show();"
   ]
  },
  {
   "cell_type": "code",
   "execution_count": null,
   "metadata": {},
   "outputs": [],
   "source": [
    "# select slices with 2 contained tracks\n",
    "twoprong_slc_idx = ntrkcont[(ntrkcont == 2)].index\n",
    "twoprong = slc_infv.reset_index().set_index([\"entry\", \"rec.slc..index\"]).loc[twoprong_slc_idx]\n",
    "twoprong = twoprong.reset_index().set_index([\"entry\", \"rec.slc..index\", \"rec.slc.reco.pfp..index\"])\n",
    "\n",
    "# longer / shorter prong\n",
    "longer = twoprong.sort_values(by=\"len\", ascending=False).groupby(level=[0,1]).nth(0)\n",
    "shorter = twoprong.sort_values(by=\"len\", ascending=False).groupby(level=[0,1]).nth(1)\n"
   ]
  },
  {
   "cell_type": "code",
   "execution_count": null,
   "metadata": {},
   "outputs": [],
   "source": [
    "fig, ax = plt.subplots(figsize=(6,4))\n",
    "\n",
    "trklen = twoprong.len\n",
    "var = var_breakdown(trklen, twoprong)\n",
    "bins = np.linspace(0,200,41)\n",
    "\n",
    "plt.hist(var, bins=bins, \n",
    "         histtype=\"step\", density=True,\n",
    "         label=trklabels, \n",
    "         color=trkcolors)\n",
    "\n",
    "plt.xlabel(\"Length [cm]\")\n",
    "plt.ylabel(\"Tracks\")\n",
    "plt.legend()\n",
    "\n",
    "if savefig:\n",
    "    plt.savefig(os.path.join(\"figures\", figdir, \"contained_track_len.pdf\"), bbox_inches='tight')"
   ]
  },
  {
   "cell_type": "code",
   "execution_count": null,
   "metadata": {},
   "outputs": [],
   "source": [
    "# cut on track lengths, could be different for each prong -- but keep same for now\n",
    "maxlen = twoprong.groupby(level=[0,1]).max().len\n",
    "minlen = twoprong.groupby(level=[0,1]).min().len\n",
    "lencut_idx = maxlen[(maxlen > MAX_LEN_CUT) & (minlen > MIN_LEN_CUT)].index\n",
    "lencut = twoprong.reset_index().set_index([\"entry\", \"rec.slc..index\"]).loc[lencut_idx]\n",
    "lencut = lencut.reset_index().set_index([\"entry\", \"rec.slc..index\", \"rec.slc.reco.pfp..index\"])\n",
    "\n",
    "# user the average across the 3 planes for chi2 scores \n",
    "lencut[(\"chi2_avg\",\"chi2_muon\")] = (lencut.chi2_I0.chi2_muon + lencut.chi2_I1.chi2_muon + lencut.chi2_I2.chi2_muon)/3\n",
    "lencut[(\"chi2_avg\",\"chi2_proton\")] = (lencut.chi2_I0.chi2_proton + lencut.chi2_I1.chi2_proton + lencut.chi2_I2.chi2_proton)/3"
   ]
  },
  {
   "cell_type": "code",
   "execution_count": null,
   "metadata": {},
   "outputs": [],
   "source": [
    "fig, ax = plt.subplots(1,2, figsize=(12,4))\n",
    "plt.subplots_adjust(wspace=0.25)\n",
    "\n",
    "muscore = lencut.chi2_avg.chi2_muon\n",
    "pscore = lencut.chi2_avg.chi2_proton\n",
    "var_mu = var_breakdown(muscore, lencut)\n",
    "var_p = var_breakdown(pscore, lencut)\n",
    "bins_mu = np.linspace(0,80,41)\n",
    "bins_p = np.linspace(0,300,41)\n",
    "\n",
    "plt.subplot(1,2,1)\n",
    "plt.hist(var_mu, bins=bins_mu, \n",
    "         stacked=True, \n",
    "         color=trkcolors)\n",
    "plt.xlabel(\"$\\\\chi^2_{\\\\mu}$\")\n",
    "plt.ylabel(\"Tracks\")\n",
    "\n",
    "plt.subplot(1,2,2)\n",
    "plt.hist(var_p, bins=bins_p, \n",
    "         stacked=True, \n",
    "         label=trklabels,\n",
    "         color=trkcolors)\n",
    "plt.xlabel(\"$\\\\chi^2_{p}$\")\n",
    "plt.ylabel(\"Tracks\")\n",
    "plt.legend(bbox_to_anchor=(1.05, 1), loc='upper left')\n",
    "\n",
    "if savefig:\n",
    "    plt.savefig(os.path.join(\"figures\", figdir, \"chi2.pdf\"), bbox_inches='tight')\n",
    "plt.show();"
   ]
  },
  {
   "cell_type": "code",
   "execution_count": null,
   "metadata": {},
   "outputs": [],
   "source": [
    "chi2cut = lencut[(muscore > MUSCORE_CUT) & (pscore < PSCORE_CUT)]\n",
    "print(\"proton purity: \", (chi2cut.mc_pdg == 2212).sum()/len(chi2cut))\n",
    "print(\"muon purity: \", (np.abs(chi2cut.mc_pdg) == 13).sum()/len(chi2cut))\n",
    "print(\"pion purity: \", (np.abs(chi2cut.mc_pdg) == 211).sum()/len(chi2cut))"
   ]
  },
  {
   "cell_type": "code",
   "execution_count": null,
   "metadata": {},
   "outputs": [],
   "source": [
    "fig, ax = plt.subplots(figsize=(6,4))\n",
    "\n",
    "trklen = chi2cut.len\n",
    "var = var_breakdown(trklen, chi2cut)\n",
    "for v in var:\n",
    "    print(\"{} %\".format(len(v)/len(trklen)*100))\n",
    "bins = np.linspace(0,200,21)\n",
    "\n",
    "n, bins, _ = plt.hist(var, bins=bins, \n",
    "                      stacked=True,\n",
    "                      label=trklabels,\n",
    "                      color=trkcolors)\n",
    "\n",
    "plt.xlabel(\"Track Length [cm]\")\n",
    "plt.ylabel(\"Tracks\")\n",
    "plt.legend(bbox_to_anchor=(1.05, 1), loc='upper left')\n",
    "\n",
    "if savefig:\n",
    "    plt.savefig(os.path.join(\"figures\", figdir, \"selected_trklen.pdf\"), bbox_inches='tight')\n",
    "\n",
    "plt.show();"
   ]
  },
  {
   "cell_type": "code",
   "execution_count": null,
   "metadata": {},
   "outputs": [],
   "source": [
    "fig, ax = plt.subplots(figsize=(5,4))\n",
    "\n",
    "tdir = chi2cut.dir.z\n",
    "var = var_breakdown(tdir, chi2cut)\n",
    "bins = np.linspace(-1,1,21)\n",
    "\n",
    "plt.hist(var, bins=bins, \n",
    "         stacked=True, \n",
    "         label=trklabels,\n",
    "         color=trkcolors)\n",
    "\n",
    "plt.xlabel(r\"cos$\\theta_z$\")\n",
    "plt.ylabel(\"Tracks\")\n",
    "plt.title(\"$\\\\chi^2_{\\\\mu} > 20$ and $\\\\chi^2_{p} < 80$\")\n",
    "plt.legend(bbox_to_anchor=(1.05, 1), loc='upper left')\n",
    "\n",
    "plt.text(0.05, 0.9, \"proton purity: {:.2f}%\".format(100*len(tdir[(chi2cut.mc_pdg == 2212)])/len(tdir)), transform=ax.transAxes)\n",
    "for tdir_cut_val in [0.85, 0.9, 0.95]:\n",
    "       tdir_cut = (tdir < tdir_cut_val)\n",
    "       tdir_selected = chi2cut[tdir_cut]\n",
    "       print(\"tdir cut: \", tdir_cut_val)\n",
    "       plt.text(0.05, tdir_cut_val-0.15, r\"cos$\\theta_z$<{:.2f}\".format(tdir_cut_val)+\" proton purity: {:.2f}%\".format((tdir_selected.mc_pdg == 2212).sum()/len(tdir_selected)*100), transform=ax.transAxes)\n",
    "\n",
    "if savefig:\n",
    "    plt.savefig(os.path.join(\"figures\", figdir, \"selected_dirz.pdf\"), bbox_inches='tight')\n",
    "plt.show();"
   ]
  },
  {
   "cell_type": "markdown",
   "metadata": {},
   "source": [
    "# Save to nutple root file"
   ]
  },
  {
   "cell_type": "code",
   "execution_count": null,
   "metadata": {},
   "outputs": [],
   "source": [
    "trkhits = dfs[\"hit\"]\n",
    "trks = dfs[\"pfp\"]\n",
    "\n",
    "selected_idx = chi2cut.index\n",
    "print(len(selected_idx), \"tracks selected\")\n",
    "trkhits = trkhits.reset_index().set_index([\"entry\", \"rec.slc..index\", \"rec.slc.reco.pfp..index\"]).loc[selected_idx]\n",
    "trks = trks.loc[selected_idx]"
   ]
  },
  {
   "cell_type": "code",
   "execution_count": null,
   "metadata": {},
   "outputs": [],
   "source": [
    "fig, ax = plt.subplots(figsize=(6,4))\n",
    "varx = trkhits.rr\n",
    "vary = trkhits.dqdx\n",
    "bins = (np.linspace(0,100,41), np.linspace(0,5e3,21))\n",
    "plt.hist2d(varx, vary, bins=bins)\n",
    "plt.colorbar()\n",
    "plt.show();"
   ]
  },
  {
   "cell_type": "code",
   "execution_count": null,
   "metadata": {},
   "outputs": [],
   "source": [
    "# drop first 2 hits\n",
    "# trkhits = trkhits.groupby(level=[0,1]).apply(lambda x: x.iloc[2:]).reset_index(level=2, drop=True)\n",
    "# trkhits = trkhits[trkhits.rr > 0.3]\n",
    "trkhits = trkhits"
   ]
  },
  {
   "cell_type": "code",
   "execution_count": null,
   "metadata": {},
   "outputs": [],
   "source": [
    "# save root file\n",
    "output = uproot.recreate(os.path.join(savepath, calibdfname))\n",
    "\n",
    "output[\"caloskim/hits\"] = {\n",
    "    \"trk.hits2.h.dedx\":           np.array(trkhits.dedx),\n",
    "    \"trk.hits2.dqdx\":             np.array(trkhits.dqdx),   \n",
    "    \"trk.hits2.h.pitch\":          np.array(trkhits.pitch),   \n",
    "    \"trk.hits2.h.integral\":       np.array(trkhits.integral),      \n",
    "    \"trk.hits2.rr\":               np.array(trkhits.rr), \n",
    "    \"trk.hits2.pitch\":            np.array(trkhits.pitch),\n",
    "    \"trk.hits2.h.wire\":           np.array(trkhits.wire),  \n",
    "    \"trk.hits2.h.tpc\":            np.array(trkhits.tpc),   \n",
    "    \"trk.hits2.h.sumadc\":         np.array(trkhits.sumadc),   \n",
    "    \"trk.hits2.h.time\":           np.array(trkhits.t), \n",
    "    \"trk.hits2.h.sp.x\":           np.array(trkhits.x),    \n",
    "    \"trk.hits2.h.sp.y\":           np.array(trkhits.y),     \n",
    "    \"trk.hits2.h.sp.z\":           np.array(trkhits.z),       \n",
    "    \"trk.hits2.h.truth.h_e\":      np.array(trkhits.truth.h_e),         \n",
    "    \"trk.hits2.h.truth.h_nelec\":  np.array(trkhits.truth.h_nelec),        \n",
    "    \"trk.hits2.h.truth.pitch\":    np.array(trkhits.truth.pitch),       \n",
    "    \"trk.hits2.h.truth.rr\":       np.array(trkhits.truth.rr),     \n",
    "    }\n",
    "\n",
    "output[\"caloskim/trk\"] = {\n",
    "    \"trk.start.x\":                np.array(trks.start.x),  \n",
    "    \"trk.start.y\":                np.array(trks.start.y), \n",
    "    \"trk.start.z\":                np.array(trks.start.z),      \n",
    "    \"trk.end.x\":                  np.array(trks.end.x),  \n",
    "    \"trk.end.y\":                  np.array(trks.end.y), \n",
    "    \"trk.end.z\":                  np.array(trks.end.z),      \n",
    "    \"trk.dir.x\":                  np.array(trks.dir.x),  \n",
    "    \"trk.dir.y\":                  np.array(trks.dir.y), \n",
    "    \"trk.dir.z\":                  np.array(trks.dir.z),      \n",
    "    \"trk.len\":                    np.array(trks.len),      \n",
    "    # \"trk.truth.p.start.x\":        np.array(trks.truth.p.start.x),    \n",
    "    # \"trk.truth.p.start.y\":        np.array(trks.truth.p.start.y),   \n",
    "    # \"trk.truth.p.start.z\":        np.array(trks.truth.p.start.z),    \n",
    "    # \"trk.truth.p.end.x\":          np.array(trks.truth.p.end.x),  \n",
    "    # \"trk.truth.p.end.y\":          np.array(trks.truth.p.end.y),  \n",
    "    # \"trk.truth.p.end.z\":          np.array(trks.truth.p.end.z),  \n",
    "    # \"trk.truth.p.end_process\":    np.array(trks.truth.p.end_process),       \n",
    "    # \"trk.truth.p.pdg\":            np.array(trks.truth.p.end_process),       \n",
    "    }"
   ]
  }
 ],
 "metadata": {
  "kernelspec": {
   "display_name": "Python 3 (ipykernel)",
   "language": "python",
   "name": "python3"
  },
  "language_info": {
   "codemirror_mode": {
    "name": "ipython",
    "version": 3
   },
   "file_extension": ".py",
   "mimetype": "text/x-python",
   "name": "python",
   "nbconvert_exporter": "python",
   "pygments_lexer": "ipython3",
   "version": "3.6.8"
  }
 },
 "nbformat": 4,
 "nbformat_minor": 4
}
